{
 "cells": [
  {
   "cell_type": "code",
   "execution_count": null,
   "metadata": {},
   "outputs": [],
   "source": [
    "import pandas as pd\n",
    "import csv as csv\n",
    "import pandera as pa"
   ]
  },
  {
   "cell_type": "markdown",
   "metadata": {},
   "source": [
    "### LIMPEZA E LEITURA DOS DADOS"
   ]
  },
  {
   "cell_type": "code",
   "execution_count": null,
   "metadata": {},
   "outputs": [],
   "source": [
    "pd.set_option('display.max_rows', 5752)\n",
    "valores_ausentes=['**', '***','****','*****','###!', '####', 'NULL']\n",
    "df = pd.read_csv(\"ocorrencia_2010_2020_alterado.csv\", sep=';', encoding=\"cp1252\", parse_dates=[\"ocorrencia_dia\"], dayfirst=True, na_values=valores_ausentes)\n",
    "df.head(10)\n"
   ]
  },
  {
   "cell_type": "markdown",
   "metadata": {},
   "source": [
    "### VALIDAÇÃO DOS DADOS\n"
   ]
  },
  {
   "cell_type": "code",
   "execution_count": null,
   "metadata": {},
   "outputs": [],
   "source": [
    "schema= pa.DataFrameSchema(\n",
    "    columns = {\n",
    "        \"codigo_ocorrencia\":pa.Column(pa.Int),\n",
    "        \"codigo_ocorrencia2\":pa.Column(pa.Int),\n",
    "        \"ocorrencia_classificacao\":pa.Column(pa.String),\n",
    "        \"ocorrencia_cidade\":pa.Column(pa.String),\n",
    "        \"ocorrencia_uf\":pa.Column(pa.String, pa.Check.str_length(2,2), nullable=True),\n",
    "        \"ocorrencia_aerodromo\":pa.Column(pa.String, nullable=True),\n",
    "        \"ocorrencia_dia\":pa.Column(pa.DateTime),\n",
    "        \"ocorrencia_hora\":pa.Column(pa.String, pa.Check.str_matches(r'^([0-1]?[0-9]|[2][0-3]):([0-5][0-9])(:[0-5][0-9])?$') ,nullable=True),\n",
    "        \"total_recomendacoes\":pa.Column(pa.Int)\n",
    "               \n",
    "    }\n",
    ")"
   ]
  },
  {
   "cell_type": "code",
   "execution_count": null,
   "metadata": {},
   "outputs": [],
   "source": [
    "schema.validate(df)"
   ]
  },
  {
   "cell_type": "code",
   "execution_count": null,
   "metadata": {},
   "outputs": [],
   "source": [
    "df.dtypes"
   ]
  },
  {
   "cell_type": "markdown",
   "metadata": {},
   "source": [
    "##### Localizando por label (loc) ou por index (iloc)"
   ]
  },
  {
   "cell_type": "code",
   "execution_count": null,
   "metadata": {
    "scrolled": true
   },
   "outputs": [],
   "source": [
    "df.loc[1]"
   ]
  },
  {
   "cell_type": "code",
   "execution_count": null,
   "metadata": {},
   "outputs": [],
   "source": [
    "#Com o index (função iloc), há um range de dados em uma lista, podendo usar -1 para identificar o último elemento\n",
    "df.iloc[-1]"
   ]
  },
  {
   "cell_type": "code",
   "execution_count": null,
   "metadata": {},
   "outputs": [],
   "source": [
    "df.loc[:, 'ocorrencia_uf']"
   ]
  },
  {
   "cell_type": "code",
   "execution_count": null,
   "metadata": {},
   "outputs": [],
   "source": [
    "df['ocorrencia_uf']"
   ]
  },
  {
   "cell_type": "code",
   "execution_count": null,
   "metadata": {},
   "outputs": [],
   "source": [
    "df.ocorrencia_uf"
   ]
  },
  {
   "cell_type": "markdown",
   "metadata": {},
   "source": [
    "##### Manipulação de Valores "
   ]
  },
  {
   "cell_type": "code",
   "execution_count": null,
   "metadata": {},
   "outputs": [],
   "source": [
    "#Valores Nulos (na)\n",
    "df.isna().sum()"
   ]
  },
  {
   "cell_type": "code",
   "execution_count": null,
   "metadata": {},
   "outputs": [],
   "source": [
    "#Valores Nulos (null)\n",
    "df.isnull().sum()"
   ]
  },
  {
   "cell_type": "code",
   "execution_count": null,
   "metadata": {},
   "outputs": [],
   "source": [
    "#Verificando apenas em uma coluna\n",
    "#Primeira forma de fazer\n",
    "df.loc[df.ocorrencia_uf.isnull()]"
   ]
  },
  {
   "cell_type": "code",
   "execution_count": null,
   "metadata": {},
   "outputs": [],
   "source": [
    "#Segunda forma de fazer\n",
    "filtro=df.ocorrencia_aerodromo.isnull()\n",
    "df.loc[filtro]"
   ]
  },
  {
   "cell_type": "code",
   "execution_count": null,
   "metadata": {},
   "outputs": [],
   "source": [
    "filtro=df.ocorrencia_hora.isnull()\n",
    "df.loc[filtro]"
   ]
  },
  {
   "cell_type": "markdown",
   "metadata": {},
   "source": [
    "##### Contagem de valores NÃO NULOS"
   ]
  },
  {
   "cell_type": "code",
   "execution_count": null,
   "metadata": {
    "scrolled": true
   },
   "outputs": [],
   "source": [
    "df.count()"
   ]
  },
  {
   "cell_type": "markdown",
   "metadata": {},
   "source": [
    "### Filtros/ Agregação"
   ]
  },
  {
   "cell_type": "code",
   "execution_count": null,
   "metadata": {},
   "outputs": [],
   "source": [
    "#ocorrencias com mais de 10 recomendações\n",
    "filtro=df.total_recomendacoes > 10\n",
    "df.loc[filtro]"
   ]
  },
  {
   "cell_type": "code",
   "execution_count": null,
   "metadata": {},
   "outputs": [],
   "source": [
    "#ocorrencias com mais de 10 recomendações\n",
    "filtro=df.total_recomendacoes > 10\n",
    "df.loc[filtro, ['ocorrencia_cidade', 'total_recomendacoes']]"
   ]
  },
  {
   "cell_type": "code",
   "execution_count": null,
   "metadata": {},
   "outputs": [],
   "source": [
    "#ocorrencias cuja classificação == INCIDENTE GRAVE\n",
    "filtro = df.ocorrencia_classificacao == 'INCIDENTE GRAVE'\n",
    "df.loc[filtro]"
   ]
  },
  {
   "cell_type": "code",
   "execution_count": null,
   "metadata": {},
   "outputs": [],
   "source": [
    "#ocorrencias cuja classificação == INCIDENTE GRAVE , no estado de SP\n",
    "filtro1 = df.ocorrencia_classificacao == 'INCIDENTE GRAVE' \n",
    "filtro2 = df.ocorrencia_uf=='SP'\n",
    "df.loc[filtro1 & filtro2]"
   ]
  },
  {
   "cell_type": "code",
   "execution_count": null,
   "metadata": {},
   "outputs": [],
   "source": [
    "#ocorrencias cuja classificação == INCIDENTE GRAVE ou no estado de SP\n",
    "filtro1 = df.ocorrencia_classificacao == 'INCIDENTE GRAVE' \n",
    "filtro2 = df.ocorrencia_uf=='SP'\n",
    "df.loc[filtro1 | filtro2]"
   ]
  },
  {
   "cell_type": "code",
   "execution_count": null,
   "metadata": {},
   "outputs": [],
   "source": [
    "#ocorrencias cuja classificação == INCIDENTE GRAVE ou INCIDENTE  , no estado de SP\n",
    "filtro1 = (df.ocorrencia_classificacao == 'INCIDENTE GRAVE') | (df.ocorrencia_classificacao == 'INCIDENTE')\n",
    "filtro2 = df.ocorrencia_uf == 'SP'\n",
    "df.loc[filtro1 & filtro2]"
   ]
  },
  {
   "cell_type": "code",
   "execution_count": null,
   "metadata": {
    "scrolled": true
   },
   "outputs": [],
   "source": [
    "#Segunda forma de fazer:\n",
    "#ocorrencias cuja classificação == INCIDENTE GRAVE ou INCIDENTE  , no estado de SP\n",
    "filtro1 = df.ocorrencia_classificacao.isin (['INCIDENTE GRAVE','INCIDENTE'])\n",
    "filtro2 = df.ocorrencia_uf == 'SP'\n",
    "df.loc[filtro1 & filtro2]"
   ]
  },
  {
   "cell_type": "code",
   "execution_count": null,
   "metadata": {},
   "outputs": [],
   "source": [
    "#ocorrencias cuja cidade comecem com a letra C\n",
    "filtro= df.ocorrencia_cidade.str[0]==\"C\"\n",
    "df.loc[filtro]"
   ]
  },
  {
   "cell_type": "code",
   "execution_count": null,
   "metadata": {},
   "outputs": [],
   "source": [
    "#ocorrencias cuja cidade terminam com A\n",
    "filtro= df.ocorrencia_cidade.str[-1]==\"A\"\n",
    "df.loc[filtro]"
   ]
  },
  {
   "cell_type": "code",
   "execution_count": null,
   "metadata": {},
   "outputs": [],
   "source": [
    "#ocorrencias cuja cidade terminam com MA\n",
    "filtro= df.ocorrencia_cidade.str[-2:]==\"MA\"\n",
    "df.loc[filtro]"
   ]
  },
  {
   "cell_type": "code",
   "execution_count": null,
   "metadata": {
    "scrolled": false
   },
   "outputs": [],
   "source": [
    "#ocorrencias cuja cidade contém em qualquer parte do conteúdo os caracteres MA\n",
    "filtro= df.ocorrencia_cidade.str.contains('MA')\n",
    "df.loc[filtro]"
   ]
  },
  {
   "cell_type": "code",
   "execution_count": null,
   "metadata": {},
   "outputs": [],
   "source": [
    "#ocorrencias cuja cidade contém em qualquer parte do conteúdo os caracteres MA ou AL\n",
    "filtro= df.ocorrencia_cidade.str.contains('MA| AL')\n",
    "df.loc[filtro]"
   ]
  },
  {
   "cell_type": "code",
   "execution_count": null,
   "metadata": {},
   "outputs": [],
   "source": [
    "#ocorrencias do ano de 2015\n",
    "filtro= df.ocorrencia_dia.dt.year == 2015\n",
    "df.loc[filtro]"
   ]
  },
  {
   "cell_type": "code",
   "execution_count": null,
   "metadata": {},
   "outputs": [],
   "source": [
    "#ocorrencias do ano de 2015 e mês 12\n",
    "filtro1= df.ocorrencia_dia.dt.year == 2015\n",
    "filtro2= df.ocorrencia_dia.dt.month == 12\n",
    "df.loc[filtro1 & filtro2]"
   ]
  },
  {
   "cell_type": "code",
   "execution_count": null,
   "metadata": {},
   "outputs": [],
   "source": [
    "#ocorrencias do ano de 2015 e mês 12 e dia 08\n",
    "filtro1= df.ocorrencia_dia.dt.year == 2015\n",
    "filtro2= df.ocorrencia_dia.dt.month == 12\n",
    "filtro3= df.ocorrencia_dia.dt.day == 8\n",
    "df.loc[filtro1 & filtro2 & filtro3]"
   ]
  },
  {
   "cell_type": "code",
   "execution_count": null,
   "metadata": {},
   "outputs": [],
   "source": [
    "#ocorrencias do ano de 2015 e mês 12 e do dia 3 a 08\n",
    "filtro1= df.ocorrencia_dia.dt.year == 2015\n",
    "filtro2= df.ocorrencia_dia.dt.month == 12\n",
    "filtro3= (df.ocorrencia_dia.dt.day > 2) & (df.ocorrencia_dia.dt.day <9)\n",
    "df.loc[filtro1 & filtro2 & filtro3]"
   ]
  },
  {
   "cell_type": "code",
   "execution_count": null,
   "metadata": {},
   "outputs": [],
   "source": [
    "#criação de nova coluna dia com hora, com a coluna dia convertida para string\n",
    "df.ocorrencia_dia.astype(str) + ' '+ df.ocorrencia_hora"
   ]
  },
  {
   "cell_type": "code",
   "execution_count": null,
   "metadata": {},
   "outputs": [],
   "source": [
    "#criação de nova coluna com conversão para Datetime \n",
    "df['ocorrencia_dia_hora'] = pd.to_datetime(df.ocorrencia_dia.astype(str) + ' '+ df.ocorrencia_hora)"
   ]
  },
  {
   "cell_type": "code",
   "execution_count": null,
   "metadata": {},
   "outputs": [],
   "source": [
    "df.head()"
   ]
  },
  {
   "cell_type": "code",
   "execution_count": null,
   "metadata": {},
   "outputs": [],
   "source": [
    "df.dtypes"
   ]
  },
  {
   "cell_type": "code",
   "execution_count": null,
   "metadata": {},
   "outputs": [],
   "source": [
    "#ocorrencias do ano de 2015 e mês 12 e do dia 3 a 08, entre 11hs às 13hs.\n",
    "filtro1= df.ocorrencia_dia_hora >= '2015-12-03 11:00:00'\n",
    "filtro2= df.ocorrencia_dia_hora <= '2015-12-08 13:00:00'\n",
    "df.loc[filtro1 & filtro2]"
   ]
  },
  {
   "cell_type": "code",
   "execution_count": null,
   "metadata": {},
   "outputs": [],
   "source": [
    "#ocorrencias do ano de 2015 e mês 03 e atribuindo ao novo DataFrame\n",
    "filtro1= df.ocorrencia_dia.dt.year == 2015\n",
    "filtro2= df.ocorrencia_dia.dt.month == 3\n",
    "df201503 = df.loc[filtro1 & filtro2]\n",
    "df201503"
   ]
  },
  {
   "cell_type": "code",
   "execution_count": null,
   "metadata": {},
   "outputs": [],
   "source": [
    "#contagem do novo DataFrame criado\n",
    "df201503.count()"
   ]
  },
  {
   "cell_type": "code",
   "execution_count": null,
   "metadata": {},
   "outputs": [],
   "source": [
    "#contagem (apenas dos valores não nulos - 21 registros) por agrupamento\n",
    "df201503.groupby(['ocorrencia_classificacao']).ocorrencia_aerodromo.count()"
   ]
  },
  {
   "cell_type": "code",
   "execution_count": null,
   "metadata": {},
   "outputs": [],
   "source": [
    "#contagem (todos os valores - nulos e não nulos - 37 registros) por agrupamento \n",
    "df201503.groupby(['ocorrencia_classificacao']).ocorrencia_aerodromo.size()"
   ]
  },
  {
   "cell_type": "code",
   "execution_count": null,
   "metadata": {},
   "outputs": [],
   "source": [
    "#contagem (todos os valores - nulos e não nulos - 37 registros) por agrupamento e ordenação descendente \n",
    "df201503.groupby(['ocorrencia_classificacao']).ocorrencia_aerodromo.size().sort_values(ascending = False)"
   ]
  },
  {
   "cell_type": "code",
   "execution_count": null,
   "metadata": {},
   "outputs": [],
   "source": [
    "#criação de DataFrame somente com dados de 2010 e estados do Sudeste\n",
    "filtro1 = df.ocorrencia_dia.dt.year == 2010\n",
    "filtro2 = df.ocorrencia_uf.isin(['SP', 'MG', 'ES', 'RJ'])\n",
    "dfsudeste2010 = df.loc[filtro1 & filtro2]\n",
    "dfsudeste2010"
   ]
  },
  {
   "cell_type": "code",
   "execution_count": null,
   "metadata": {},
   "outputs": [],
   "source": [
    "dfsudeste2010.groupby(['ocorrencia_classificacao']).size()"
   ]
  },
  {
   "cell_type": "code",
   "execution_count": null,
   "metadata": {},
   "outputs": [],
   "source": [
    "dfsudeste2010.count()"
   ]
  },
  {
   "cell_type": "code",
   "execution_count": null,
   "metadata": {},
   "outputs": [],
   "source": [
    "dfsudeste2010.groupby(['ocorrencia_classificacao', 'ocorrencia_uf']).size()"
   ]
  },
  {
   "cell_type": "code",
   "execution_count": null,
   "metadata": {},
   "outputs": [],
   "source": [
    "dfsudeste2010.groupby(['ocorrencia_cidade']).size().sort_values(ascending=False)"
   ]
  },
  {
   "cell_type": "code",
   "execution_count": null,
   "metadata": {},
   "outputs": [],
   "source": [
    "filtro=dfsudeste2010.ocorrencia_cidade == 'RIO DE JANEIRO'\n",
    "dfsudeste2010.loc[filtro]"
   ]
  },
  {
   "cell_type": "code",
   "execution_count": null,
   "metadata": {},
   "outputs": [],
   "source": [
    "filtro1=dfsudeste2010.ocorrencia_cidade == 'RIO DE JANEIRO'\n",
    "filtro2=dfsudeste2010.total_recomendacoes > 0\n",
    "dfsudeste2010.loc[filtro1 & filtro2]\n"
   ]
  },
  {
   "cell_type": "code",
   "execution_count": null,
   "metadata": {},
   "outputs": [],
   "source": [
    "filtro1=dfsudeste2010.ocorrencia_cidade == 'RIO DE JANEIRO'\n",
    "dfsudeste2010.loc[filtro1].total_recomendacoes.sum()"
   ]
  },
  {
   "cell_type": "code",
   "execution_count": null,
   "metadata": {},
   "outputs": [],
   "source": [
    "#contagem do total de recomendações por cidade, não mostra a qtde de NA\n",
    "dfsudeste2010.groupby(['ocorrencia_cidade']).total_recomendacoes.sum()"
   ]
  },
  {
   "cell_type": "code",
   "execution_count": null,
   "metadata": {},
   "outputs": [],
   "source": [
    "#contagem do total de recomendações por aerodromo, (dropna = false --> mostra a qtde de NAN)\n",
    "dfsudeste2010.groupby(['ocorrencia_aerodromo'], dropna = False).total_recomendacoes.sum()"
   ]
  },
  {
   "cell_type": "code",
   "execution_count": null,
   "metadata": {},
   "outputs": [],
   "source": [
    "##contagem do total de recomendações por cidade, apenas aquelas que tiveram recomendações\n",
    "filtro = dfsudeste2010.total_recomendacoes > 0\n",
    "dfsudeste2010.loc[filtro].groupby(['ocorrencia_cidade']).total_recomendacoes.sum().sort_values()"
   ]
  },
  {
   "cell_type": "code",
   "execution_count": null,
   "metadata": {},
   "outputs": [],
   "source": [
    "##contagem do total de recomendações por cidade e mês\n",
    "dfsudeste2010.loc[filtro].groupby(['ocorrencia_cidade', dfsudeste2010.ocorrencia_dia.dt.month]).total_recomendacoes.sum()"
   ]
  },
  {
   "cell_type": "code",
   "execution_count": null,
   "metadata": {},
   "outputs": [],
   "source": []
  },
  {
   "cell_type": "code",
   "execution_count": null,
   "metadata": {},
   "outputs": [],
   "source": []
  }
 ],
 "metadata": {
  "kernelspec": {
   "display_name": "Python 3",
   "language": "python",
   "name": "python3"
  },
  "language_info": {
   "codemirror_mode": {
    "name": "ipython",
    "version": 3
   },
   "file_extension": ".py",
   "mimetype": "text/x-python",
   "name": "python",
   "nbconvert_exporter": "python",
   "pygments_lexer": "ipython3",
   "version": "3.8.5"
  },
  "widgets": {
   "application/vnd.jupyter.widget-state+json": {
    "state": {},
    "version_major": 2,
    "version_minor": 0
   }
  }
 },
 "nbformat": 4,
 "nbformat_minor": 4
}
